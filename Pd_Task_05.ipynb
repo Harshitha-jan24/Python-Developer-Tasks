{
  "nbformat": 4,
  "nbformat_minor": 0,
  "metadata": {
    "colab": {
      "provenance": []
    },
    "kernelspec": {
      "name": "python3",
      "display_name": "Python 3"
    },
    "language_info": {
      "name": "python"
    }
  },
  "cells": [
    {
      "cell_type": "code",
      "execution_count": 1,
      "metadata": {
        "colab": {
          "base_uri": "https://localhost:8080/"
        },
        "id": "YmI2haF8-KhM",
        "outputId": "0b22eca3-d531-476a-8c43-efbf9270f49b"
      },
      "outputs": [
        {
          "output_type": "stream",
          "name": "stdout",
          "text": [
            "ABC\n",
            "ACB\n",
            "BAC\n",
            "BCA\n",
            "CAB\n",
            "CBA\n"
          ]
        }
      ],
      "source": [
        "#Task 33\n",
        "def permute(s, path=\"\"):\n",
        "    if not s:\n",
        "        print(path)  # Print the permutation\n",
        "    else:\n",
        "        for i in range(len(s)):\n",
        "            permute(s[:i] + s[i+1:], path + s[i])\n",
        "\n",
        "# Example Usage\n",
        "s = \"ABC\"\n",
        "permute(s)\n"
      ]
    },
    {
      "cell_type": "code",
      "source": [
        "#Task 34\n",
        "def fibonacci(n):\n",
        "    if n <= 1:\n",
        "        return n\n",
        "\n",
        "    dp = [0] * (n + 1)\n",
        "    dp[1] = 1  # Base cases: F(0) = 0, F(1) = 1\n",
        "\n",
        "    for i in range(2, n + 1):\n",
        "        dp[i] = dp[i - 1] + dp[i - 2]\n",
        "\n",
        "    return dp[n]\n",
        "\n",
        "# Example Usage\n",
        "n = 10\n",
        "print(fibonacci(n))  # Output: 55\n"
      ],
      "metadata": {
        "colab": {
          "base_uri": "https://localhost:8080/"
        },
        "id": "o4wPqpVF-STU",
        "outputId": "22665437-33ec-4369-ddde-ec9c7bf19df2"
      },
      "execution_count": 2,
      "outputs": [
        {
          "output_type": "stream",
          "name": "stdout",
          "text": [
            "55\n"
          ]
        }
      ]
    },
    {
      "cell_type": "code",
      "source": [
        "#Task 35\n",
        "def find_duplicates(lst):\n",
        "    freq = {}  # Dictionary to store counts\n",
        "    duplicates = set()\n",
        "\n",
        "    for num in lst:\n",
        "        if num in freq:\n",
        "            duplicates.add(num)\n",
        "        freq[num] = freq.get(num, 0) + 1\n",
        "\n",
        "    return list(duplicates)\n",
        "\n",
        "# Example Usage\n",
        "nums = [1, 2, 3, 4, 5, 2, 3, 6, 7, 8, 1]\n",
        "print(find_duplicates(nums))  # Output: [1, 2, 3]\n"
      ],
      "metadata": {
        "colab": {
          "base_uri": "https://localhost:8080/"
        },
        "id": "YM9pfpDj-eFL",
        "outputId": "8ed86890-ee02-43d3-ae55-e8677fb01308"
      },
      "execution_count": 3,
      "outputs": [
        {
          "output_type": "stream",
          "name": "stdout",
          "text": [
            "[1, 2, 3]\n"
          ]
        }
      ]
    },
    {
      "cell_type": "code",
      "source": [
        "#Task 36\n",
        "def length_of_lis(nums):\n",
        "    if not nums:\n",
        "        return 0\n",
        "\n",
        "    n = len(nums)\n",
        "    dp = [1] * n  # Initialize LIS length for each element\n",
        "\n",
        "    for i in range(n):\n",
        "        for j in range(i):\n",
        "            if nums[i] > nums[j]:  # Increasing sequence condition\n",
        "                dp[i] = max(dp[i], dp[j] + 1)\n",
        "\n",
        "    return max(dp)  # The longest LIS is the max value in dp[]\n",
        "\n",
        "# Example Usage\n",
        "nums = [10, 9, 2, 5, 3, 7, 101, 18]\n",
        "print(length_of_lis(nums))  # Output: 4\n"
      ],
      "metadata": {
        "colab": {
          "base_uri": "https://localhost:8080/"
        },
        "id": "bbZBQOdu-0xi",
        "outputId": "50c219d1-e226-4a1d-891a-bacb97013eb2"
      },
      "execution_count": 4,
      "outputs": [
        {
          "output_type": "stream",
          "name": "stdout",
          "text": [
            "4\n"
          ]
        }
      ]
    },
    {
      "cell_type": "code",
      "source": [
        "#Task 37\n",
        "import heapq\n",
        "\n",
        "def k_largest_elements(nums, k):\n",
        "    return heapq.nlargest(k, nums)  # Uses a min-heap internally\n",
        "\n",
        "# Example Usage\n",
        "nums = [3, 1, 5, 12, 2, 11, 7]\n",
        "k = 3\n",
        "print(k_largest_elements(nums, k))  # Output: [12, 11, 7]\n"
      ],
      "metadata": {
        "colab": {
          "base_uri": "https://localhost:8080/"
        },
        "id": "CzUtVzDs--2_",
        "outputId": "1704c567-9f1e-4f06-f6d6-a0acd52c5215"
      },
      "execution_count": 5,
      "outputs": [
        {
          "output_type": "stream",
          "name": "stdout",
          "text": [
            "[12, 11, 7]\n"
          ]
        }
      ]
    },
    {
      "cell_type": "code",
      "source": [
        "#Task 38\n",
        "def rotate_matrix(matrix):\n",
        "    # Transpose: Convert rows to columns\n",
        "    matrix = list(zip(*matrix))\n",
        "\n",
        "    # Reverse each row\n",
        "    return [list(row)[::-1] for row in matrix]\n",
        "\n",
        "# Example Usage\n",
        "matrix = [\n",
        "    [1, 2, 3],\n",
        "    [4, 5, 6],\n",
        "    [7, 8, 9]\n",
        "]\n",
        "\n",
        "rotated = rotate_matrix(matrix)\n",
        "for row in rotated:\n",
        "    print(row)\n"
      ],
      "metadata": {
        "colab": {
          "base_uri": "https://localhost:8080/"
        },
        "id": "1gfWwKa5_O6B",
        "outputId": "e4c4d9e6-919f-45bd-bfa4-4d340a0c46d5"
      },
      "execution_count": 6,
      "outputs": [
        {
          "output_type": "stream",
          "name": "stdout",
          "text": [
            "[7, 4, 1]\n",
            "[8, 5, 2]\n",
            "[9, 6, 3]\n"
          ]
        }
      ]
    },
    {
      "cell_type": "code",
      "source": [
        "#Task 39\n",
        "def is_valid_sudoku(board):\n",
        "    seen = set()\n",
        "\n",
        "    for i in range(9):\n",
        "        for j in range(9):\n",
        "            num = board[i][j]\n",
        "            if num != \".\":\n",
        "                row_key = (i, num)          # Row identifier\n",
        "                col_key = (num, j)          # Column identifier\n",
        "                box_key = (i // 3, j // 3, num)  # 3x3 Box identifier\n",
        "\n",
        "                if row_key in seen or col_key in seen or box_key in seen:\n",
        "                    return False  # Duplicate found\n",
        "\n",
        "                seen.update([row_key, col_key, box_key])  # Store unique numbers\n",
        "\n",
        "    return True\n",
        "\n",
        "# Example Usage\n",
        "sudoku_board = [\n",
        "    [\"5\", \"3\", \".\", \".\", \"7\", \".\", \".\", \".\", \".\"],\n",
        "    [\"6\", \".\", \".\", \"1\", \"9\", \"5\", \".\", \".\", \".\"],\n",
        "    [\".\", \"9\", \"8\", \".\", \".\", \".\", \".\", \"6\", \".\"],\n",
        "    [\"8\", \".\", \".\", \".\", \"6\", \".\", \".\", \".\", \"3\"],\n",
        "    [\"4\", \".\", \".\", \"8\", \".\", \"3\", \".\", \".\", \"1\"],\n",
        "    [\"7\", \".\", \".\", \".\", \"2\", \".\", \".\", \".\", \"6\"],\n",
        "    [\".\", \"6\", \".\", \".\", \".\", \".\", \"2\", \"8\", \".\"],\n",
        "    [\".\", \".\", \".\", \"4\", \"1\", \"9\", \".\", \".\", \"5\"],\n",
        "    [\".\", \".\", \".\", \".\", \"8\", \".\", \".\", \"7\", \"9\"]\n",
        "]\n",
        "\n",
        "print(is_valid_sudoku(sudoku_board))"
      ],
      "metadata": {
        "colab": {
          "base_uri": "https://localhost:8080/"
        },
        "id": "bKWEwbcB_XaD",
        "outputId": "c3802a8d-071a-445a-92fa-6d7a02033a16"
      },
      "execution_count": 7,
      "outputs": [
        {
          "output_type": "stream",
          "name": "stdout",
          "text": [
            "True\n"
          ]
        }
      ]
    },
    {
      "cell_type": "code",
      "source": [
        "#Task 5\n",
        "import random\n",
        "\n",
        "class StockMarket:\n",
        "    def __init__(self, stocks):\n",
        "        self.stocks = {stock: random.uniform(50, 200) for stock in stocks}  # Random initial prices\n",
        "\n",
        "    def update_prices(self):\n",
        "        for stock in self.stocks:\n",
        "            change = random.uniform(-5, 5)  # Simulating price fluctuations\n",
        "            self.stocks[stock] = max(1, self.stocks[stock] + change)  # Ensure price doesn't drop below 1\n",
        "\n",
        "    def get_price(self, stock):\n",
        "        return self.stocks.get(stock, None)\n",
        "\n",
        "class Portfolio:\n",
        "    def __init__(self):\n",
        "        self.balance = 1000  # Starting cash\n",
        "        self.holdings = {}\n",
        "\n",
        "    def buy_stock(self, market, stock, quantity):\n",
        "        price = market.get_price(stock)\n",
        "        if price and self.balance >= price * quantity:\n",
        "            self.balance -= price * quantity\n",
        "            self.holdings[stock] = self.holdings.get(stock, 0) + quantity\n",
        "            print(f\"Bought {quantity} shares of {stock} at ${price:.2f}\")\n",
        "        else:\n",
        "            print(\"Not enough balance or invalid stock.\")\n",
        "\n",
        "    def sell_stock(self, market, stock, quantity):\n",
        "        price = market.get_price(stock)\n",
        "        if stock in self.holdings and self.holdings[stock] >= quantity:\n",
        "            self.holdings[stock] -= quantity\n",
        "            self.balance += price * quantity\n",
        "            print(f\"Sold {quantity} shares of {stock} at ${price:.2f}\")\n",
        "            if self.holdings[stock] == 0:\n",
        "                del self.holdings[stock]\n",
        "        else:\n",
        "            print(\"Not enough stocks to sell.\")\n",
        "\n",
        "    def display_portfolio(self, market):\n",
        "        print(f\"\\nBalance: ${self.balance:.2f}\")\n",
        "        print(\"Holdings:\")\n",
        "        for stock, qty in self.holdings.items():\n",
        "            print(f\"{stock}: {qty} shares @ ${market.get_price(stock):.2f} each\")\n",
        "        print(\"\\n\")\n",
        "\n",
        "# Sample Run\n",
        "def main():\n",
        "    market = StockMarket([\"AAPL\", \"GOOGL\", \"TSLA\", \"MSFT\", \"AMZN\"])\n",
        "    portfolio = Portfolio()\n",
        "\n",
        "    while True:\n",
        "        market.update_prices()\n",
        "        print(\"\\nStock Prices:\")\n",
        "        for stock, price in market.stocks.items():\n",
        "            print(f\"{stock}: ${price:.2f}\")\n",
        "\n",
        "        action = input(\"Choose action (buy/sell/view/exit): \").strip().lower()\n",
        "        if action == \"buy\":\n",
        "            stock = input(\"Enter stock symbol: \").strip().upper()\n",
        "            qty = int(input(\"Enter quantity: \"))\n",
        "            portfolio.buy_stock(market, stock, qty)\n",
        "        elif action == \"sell\":\n",
        "            stock = input(\"Enter stock symbol: \").strip().upper()\n",
        "            qty = int(input(\"Enter quantity: \"))\n",
        "            portfolio.sell_stock(market, stock, qty)\n",
        "        elif action == \"view\":\n",
        "            portfolio.display_portfolio(market)\n",
        "        elif action == \"exit\":\n",
        "            break\n",
        "        else:\n",
        "            print(\"Invalid action. Try again.\")\n",
        "\n",
        "if __name__ == \"__main__\":\n",
        "    main()\n"
      ],
      "metadata": {
        "colab": {
          "base_uri": "https://localhost:8080/"
        },
        "id": "se81Vljj_icL",
        "outputId": "3bdcf341-f128-4ef0-ab28-3229397f95e6"
      },
      "execution_count": 8,
      "outputs": [
        {
          "name": "stdout",
          "output_type": "stream",
          "text": [
            "\n",
            "Stock Prices:\n",
            "AAPL: $170.52\n",
            "GOOGL: $182.26\n",
            "TSLA: $172.18\n",
            "MSFT: $62.07\n",
            "AMZN: $86.64\n",
            "Choose action (buy/sell/view/exit): buy\n",
            "Enter stock symbol: AAPL\n",
            "Enter quantity: 3\n",
            "Bought 3 shares of AAPL at $170.52\n",
            "\n",
            "Stock Prices:\n",
            "AAPL: $173.19\n",
            "GOOGL: $182.63\n",
            "TSLA: $176.86\n",
            "MSFT: $64.27\n",
            "AMZN: $84.68\n",
            "Choose action (buy/sell/view/exit): exit\n"
          ]
        }
      ]
    },
    {
      "cell_type": "code",
      "source": [],
      "metadata": {
        "id": "QIPMl4gbABAA"
      },
      "execution_count": null,
      "outputs": []
    }
  ]
}