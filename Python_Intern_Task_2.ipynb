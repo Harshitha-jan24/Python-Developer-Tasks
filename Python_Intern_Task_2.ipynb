{
  "nbformat": 4,
  "nbformat_minor": 0,
  "metadata": {
    "colab": {
      "provenance": []
    },
    "kernelspec": {
      "name": "python3",
      "display_name": "Python 3"
    },
    "language_info": {
      "name": "python"
    }
  },
  "cells": [
    {
      "cell_type": "code",
      "execution_count": 2,
      "metadata": {
        "colab": {
          "base_uri": "https://localhost:8080/"
        },
        "id": "-UhrYG2LccqQ",
        "outputId": "1a349413-dea7-46a1-8078-e353d0cc6d5b"
      },
      "outputs": [
        {
          "output_type": "stream",
          "name": "stdout",
          "text": [
            "Is 37 Prime number??True\n"
          ]
        }
      ],
      "source": [
        "# Task-9 :Prime Number\n",
        "def is_prime(n):\n",
        "  if n<=1:\n",
        "    return False\n",
        "  for i in range(2,n):\n",
        "    if(n%i==0):\n",
        "      return False\n",
        "  return True\n",
        "\n",
        "n=37\n",
        "print(f'Is {n} Prime number??{(is_prime(n))}')"
      ]
    },
    {
      "cell_type": "code",
      "source": [
        "# Task-10 :Sum of digits\n",
        "def Sum_of_Digits(n):\n",
        "  sum=0\n",
        "  digit=str(n)\n",
        "  for i in digit:\n",
        "    num=int(i)\n",
        "    sum+=num\n",
        "  return sum\n",
        "\n",
        "n=17\n",
        "print(f'The sum of digits in {n} is {(Sum_of_Digits(n))}')"
      ],
      "metadata": {
        "colab": {
          "base_uri": "https://localhost:8080/"
        },
        "id": "x3cWDNW0eRGq",
        "outputId": "68793ac4-3d90-4833-e932-7c20c872e282"
      },
      "execution_count": 4,
      "outputs": [
        {
          "output_type": "stream",
          "name": "stdout",
          "text": [
            "The sum of digits in 17 is 8\n"
          ]
        }
      ]
    },
    {
      "cell_type": "code",
      "source": [
        "#Task-11:LCM and GCD\n",
        "import math\n",
        "def lcm_and_gcd(a,b):\n",
        "  gcd=math.gcd(a,b)\n",
        "  lcm=(a*b)//gcd\n",
        "  return lcm,gcd\n",
        "a=12\n",
        "b=15\n",
        "lcm,gcd=lcm_and_gcd(a,b)\n",
        "print(f'LCM:{lcm},GCD:{gcd}')\n"
      ],
      "metadata": {
        "colab": {
          "base_uri": "https://localhost:8080/"
        },
        "id": "j1ZFTq5og1Xl",
        "outputId": "a6fcc46c-29f0-46b0-a95a-dacc3db66f7f"
      },
      "execution_count": 6,
      "outputs": [
        {
          "output_type": "stream",
          "name": "stdout",
          "text": [
            "LCM:60,GCD:3\n"
          ]
        }
      ]
    },
    {
      "cell_type": "code",
      "source": [
        "#Task-12:List Reversal\n",
        "def reverse_list(lst):\n",
        "  n=len(lst)\n",
        "  for i in range(n//2):\n",
        "    lst[i],lst[n-i-1]=lst[n-i-1],lst[i]\n",
        "  return lst\n",
        "\n",
        "lst=[1,2,3,4,5]\n",
        "print(f'Reverse of {lst} is {(reverse_list(lst))}')"
      ],
      "metadata": {
        "colab": {
          "base_uri": "https://localhost:8080/"
        },
        "id": "KZTdnXHsjtFG",
        "outputId": "58bdc16e-31ea-47f0-b251-11ceea4e8f29"
      },
      "execution_count": 8,
      "outputs": [
        {
          "output_type": "stream",
          "name": "stdout",
          "text": [
            "Reverse of [1, 2, 3, 4, 5] is [5, 4, 3, 2, 1]\n"
          ]
        }
      ]
    },
    {
      "cell_type": "code",
      "source": [
        "#Task-13:sorting a list\n",
        "def bubble_sort(lst):\n",
        "  n=len(lst)\n",
        "  for i in range(n):\n",
        "    for j in range(0,n-i-1):\n",
        "      if lst[j]>lst[j+1]:\n",
        "        lst[j],lst[j+1]=lst[j+1],lst[j]\n",
        "  return lst\n",
        "\n",
        "lst=[5,3,8,1,2]\n",
        "print(f'Sorted list is {(bubble_sort(lst))}')"
      ],
      "metadata": {
        "colab": {
          "base_uri": "https://localhost:8080/"
        },
        "id": "PtcNpHmkl6Sa",
        "outputId": "a7ba01dc-0312-4c5a-8a11-3fe0b6b0b1b0"
      },
      "execution_count": 9,
      "outputs": [
        {
          "output_type": "stream",
          "name": "stdout",
          "text": [
            "Sorted list is [1, 2, 3, 5, 8]\n"
          ]
        }
      ]
    },
    {
      "cell_type": "code",
      "source": [
        "#Task-14:remove duplicates\n",
        "def remove_duplicates(lst):\n",
        "  return list(set(lst))\n",
        "lst=[1,2,2,3,4,4,5]\n",
        "print(f'List after removing duplicates is {(remove_duplicates(lst))}')"
      ],
      "metadata": {
        "colab": {
          "base_uri": "https://localhost:8080/"
        },
        "id": "svhMvkcNuEmY",
        "outputId": "638ea05f-2ce6-4da9-a0f1-763a3f3e0028"
      },
      "execution_count": 10,
      "outputs": [
        {
          "output_type": "stream",
          "name": "stdout",
          "text": [
            "List after removing duplicates is [1, 2, 3, 4, 5]\n"
          ]
        }
      ]
    },
    {
      "cell_type": "code",
      "source": [
        "#Task-15:String length\n",
        "def string_length(s):\n",
        "  sum=0\n",
        "  for i in s:\n",
        "    sum+=1\n",
        "  return sum\n",
        "\n",
        "s='Hello'\n",
        "print(f'Length of {s} is {(string_length(s))}')"
      ],
      "metadata": {
        "colab": {
          "base_uri": "https://localhost:8080/"
        },
        "id": "I0dcKckxuzbJ",
        "outputId": "3a318ea5-c4de-401e-94cd-dbc7e21854a7"
      },
      "execution_count": 11,
      "outputs": [
        {
          "output_type": "stream",
          "name": "stdout",
          "text": [
            "Length of Hello is 5\n"
          ]
        }
      ]
    },
    {
      "cell_type": "code",
      "source": [
        "# Task-16:Count vowels and consonants\n",
        "def count_vowels_consonants(s):\n",
        "  vowels='aeiouAEIOU'\n",
        "  vowel_count=0\n",
        "  consonant_count=0\n",
        "  for i in s:\n",
        "    if i.isalpha():\n",
        "      if i in vowels:\n",
        "        vowel_count+=1\n",
        "      else:\n",
        "        consonant_count+=1\n",
        "  return vowel_count,consonant_count\n",
        "\n",
        "s='Hello world'\n",
        "vowel_count,consonant_count=count_vowels_consonants(s)\n",
        "print(f'Vowels:{vowel_count},Consonants:{consonant_count}')"
      ],
      "metadata": {
        "colab": {
          "base_uri": "https://localhost:8080/"
        },
        "id": "_I19DGA3vIbY",
        "outputId": "bef79d5a-0bb8-4c83-9a40-3481cd7e5fc7"
      },
      "execution_count": 15,
      "outputs": [
        {
          "output_type": "stream",
          "name": "stdout",
          "text": [
            "Vowels:3,Consonants:7\n"
          ]
        }
      ]
    },
    {
      "cell_type": "code",
      "source": [
        "import random\n",
        "\n",
        "def generate_maze(size):\n",
        "    # Initialize maze with all walls (1)\n",
        "    maze = [[1 for _ in range(size)] for _ in range(size)]\n",
        "\n",
        "    def carve_passages(x, y):\n",
        "        directions = [(0, 1), (1, 0), (0, -1), (-1, 0)]  # Directions: right, down, left, up\n",
        "        random.shuffle(directions)  # Randomize the order of directions\n",
        "        for dx, dy in directions:\n",
        "            nx, ny = x + dx * 2, y + dy * 2\n",
        "            if 0 <= nx < size and 0 <= ny < size and maze[ny][nx] == 1:\n",
        "                maze[ny][nx] = 0  # Carve passage\n",
        "                maze[y + dy][x + dx] = 0  # Carve between\n",
        "                carve_passages(nx, ny)  # Recur for the next cell\n",
        "\n",
        "    # Start carving from (1, 1)\n",
        "    maze[1][1] = 0\n",
        "    carve_passages(1, 1)\n",
        "    return maze\n",
        "\n",
        "def print_maze(maze):\n",
        "    for row in maze:\n",
        "        print(\" \".join(\"*\" if cell == 1 else \" \" for cell in row))\n",
        "\n",
        "def solve_maze(maze, start, end):\n",
        "    stack = [start]\n",
        "    visited = set()\n",
        "    while stack:\n",
        "        x, y = stack.pop()\n",
        "        if (x, y) == end:\n",
        "            return True\n",
        "        if (x, y) in visited:\n",
        "            continue\n",
        "        visited.add((x, y))\n",
        "        for dx, dy in [(0, 1), (1, 0), (0, -1), (-1, 0)]:\n",
        "            nx, ny = x + dx, y + dy\n",
        "            if 0 <= nx < len(maze) and 0 <= ny < len(maze) and maze[ny][nx] == 0:\n",
        "                stack.append((nx, ny))\n",
        "    return False\n",
        "\n",
        "# Main Execution\n",
        "size = 15\n",
        "maze = generate_maze(size)\n",
        "print_maze(maze)\n",
        "start, end = (1, 1), (size - 2, size - 2)\n",
        "print(f'Solvable? {solve_maze(maze, start, end)}')\n"
      ],
      "metadata": {
        "colab": {
          "base_uri": "https://localhost:8080/"
        },
        "id": "UQtQ23OOwmpl",
        "outputId": "e9082365-0a9c-478c-ea98-2507d55991a1"
      },
      "execution_count": 26,
      "outputs": [
        {
          "output_type": "stream",
          "name": "stdout",
          "text": [
            "* * * * * * * * * * * * * * *\n",
            "*       *           *       *\n",
            "* * *   *   * * *   * * *   *\n",
            "*   *   *   *   *           *\n",
            "*   *   *   *   * * * * *   *\n",
            "*       *   *           *   *\n",
            "*   * * *   *   *   *   *   *\n",
            "*           *   *   *   *   *\n",
            "* * * * * * * * *   * * *   *\n",
            "*                   *       *\n",
            "*   * * * * * * *   *   * * *\n",
            "*   *               *       *\n",
            "*   * * * * * * * * * * *   *\n",
            "*                           *\n",
            "* * * * * * * * * * * * * * *\n",
            "Solvable? True\n"
          ]
        }
      ]
    },
    {
      "cell_type": "code",
      "source": [],
      "metadata": {
        "id": "vM77ugIF1QIN"
      },
      "execution_count": null,
      "outputs": []
    }
  ]
}