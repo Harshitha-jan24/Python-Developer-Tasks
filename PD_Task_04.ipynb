{
  "nbformat": 4,
  "nbformat_minor": 0,
  "metadata": {
    "colab": {
      "provenance": []
    },
    "kernelspec": {
      "name": "python3",
      "display_name": "Python 3"
    },
    "language_info": {
      "name": "python"
    }
  },
  "cells": [
    {
      "cell_type": "code",
      "execution_count": 1,
      "metadata": {
        "colab": {
          "base_uri": "https://localhost:8080/"
        },
        "id": "qhJOEkCG4MeN",
        "outputId": "8a6a44b7-125b-4232-d7d0-2dcbd21d11d6"
      },
      "outputs": [
        {
          "output_type": "stream",
          "name": "stdout",
          "text": [
            "3\n"
          ]
        }
      ],
      "source": [
        "#Task 25\n",
        "def find_missing_number(arr):\n",
        "    n = len(arr)\n",
        "\n",
        "    # Calculate the expected sum of numbers from 1 to n+1\n",
        "    expected_sum = (n + 1) * (n + 2) // 2\n",
        "\n",
        "    actual_sum = sum(arr)\n",
        "\n",
        "    return expected_sum - actual_sum\n",
        "\n",
        "arr = [1, 2, 4, 5, 6]  # Missing number is 3\n",
        "print(find_missing_number(arr))\n"
      ]
    },
    {
      "cell_type": "code",
      "source": [
        "#Task 26\n",
        "def check_balanced_parentheses(s):\n",
        "    stack = []\n",
        "    matching_parentheses = {')': '(', '}': '{', ']': '['}\n",
        "\n",
        "    for char in s:\n",
        "        if char in matching_parentheses.values():\n",
        "            stack.append(char)\n",
        "        elif char in matching_parentheses:\n",
        "            if not stack or stack[-1] != matching_parentheses[char]:\n",
        "                return False\n",
        "            stack.pop()\n",
        "\n",
        "    return len(stack) == 0\n",
        "\n",
        "s = \"{[()()]}\"\n",
        "print(check_balanced_parentheses(s))  # Output: True\n",
        "\n",
        "s = \"{[(])}\"\n",
        "print(check_balanced_parentheses(s))  # Output: False\n"
      ],
      "metadata": {
        "colab": {
          "base_uri": "https://localhost:8080/"
        },
        "id": "7JcBp4q9433m",
        "outputId": "ddc79578-3060-494e-fc8a-7facfbb5fdc3"
      },
      "execution_count": 2,
      "outputs": [
        {
          "output_type": "stream",
          "name": "stdout",
          "text": [
            "True\n",
            "False\n"
          ]
        }
      ]
    },
    {
      "cell_type": "code",
      "source": [
        "#Task 27\n",
        "def longest_word(sentence):\n",
        "    words = sentence.split()\n",
        "\n",
        "    longest = words[0]\n",
        "    for word in words:\n",
        "        if len(word) > len(longest):\n",
        "            longest = word\n",
        "\n",
        "    return longest\n",
        "\n",
        "\n",
        "sentence = \"The quick brown fox jumped over the lazy dog\"\n",
        "print(longest_word(sentence))\n"
      ],
      "metadata": {
        "colab": {
          "base_uri": "https://localhost:8080/"
        },
        "id": "7LL7zCeC53M7",
        "outputId": "0baf80bb-7c6c-4d36-8fb6-32a34fff85af"
      },
      "execution_count": 3,
      "outputs": [
        {
          "output_type": "stream",
          "name": "stdout",
          "text": [
            "jumped\n"
          ]
        }
      ]
    },
    {
      "cell_type": "code",
      "source": [
        "# Task 28\n",
        "def count_words(sentence):\n",
        "    words = sentence.split()\n",
        "    return len(words)\n",
        "sentence = \"The quick brown fox jumped over the lazy dog\"\n",
        "print(count_words(sentence))\n"
      ],
      "metadata": {
        "colab": {
          "base_uri": "https://localhost:8080/"
        },
        "id": "MIClUv6H6OZY",
        "outputId": "e5a43f1a-0c12-4c5b-8f7a-2c980a2f3408"
      },
      "execution_count": 4,
      "outputs": [
        {
          "output_type": "stream",
          "name": "stdout",
          "text": [
            "9\n"
          ]
        }
      ]
    },
    {
      "cell_type": "code",
      "source": [
        "# Task 29\n",
        "def is_pythagorean_triplet(a, b, c):\n",
        "    a, b, c = sorted([a, b, c])\n",
        "    return a**2 + b**2 == c**2\n",
        "a = 3\n",
        "b = 4\n",
        "c = 5\n",
        "print(is_pythagorean_triplet(a, b, c))\n",
        "\n",
        "a = 1\n",
        "b = 2\n",
        "c = 3\n",
        "print(is_pythagorean_triplet(a, b, c))\n"
      ],
      "metadata": {
        "colab": {
          "base_uri": "https://localhost:8080/"
        },
        "id": "lhJsAM096gIR",
        "outputId": "9a606e5a-4163-49f4-b17c-54b8f41e6482"
      },
      "execution_count": 5,
      "outputs": [
        {
          "output_type": "stream",
          "name": "stdout",
          "text": [
            "True\n",
            "False\n"
          ]
        }
      ]
    },
    {
      "cell_type": "code",
      "source": [
        "# Task 30\n",
        "def bubble_sort(arr):\n",
        "    n = len(arr)\n",
        "    for i in range(n):\n",
        "        swapped = False\n",
        "        for j in range(0, n-i-1):\n",
        "            if arr[j] > arr[j+1]:\n",
        "                arr[j], arr[j+1] = arr[j+1], arr[j]\n",
        "                swapped = True\n",
        "        if not swapped:\n",
        "            break\n",
        "\n",
        "    return arr\n",
        "arr = [64, 34, 25, 12, 22, 11, 90]\n",
        "print(bubble_sort(arr))\n"
      ],
      "metadata": {
        "colab": {
          "base_uri": "https://localhost:8080/"
        },
        "id": "ACQP1wDj65--",
        "outputId": "65366822-6107-464d-e744-cbb678899896"
      },
      "execution_count": 6,
      "outputs": [
        {
          "output_type": "stream",
          "name": "stdout",
          "text": [
            "[11, 12, 22, 25, 34, 64, 90]\n"
          ]
        }
      ]
    },
    {
      "cell_type": "code",
      "source": [
        "# Task 31\n",
        "def binary_search(arr, target):\n",
        "    low = 0\n",
        "    high = len(arr) - 1\n",
        "\n",
        "    while low <= high:\n",
        "        mid = (low + high) //2\n",
        "        if arr[mid] == target:\n",
        "            return mid\n",
        "        elif arr[mid] < target:\n",
        "            low = mid + 1\n",
        "        else:\n",
        "            high = mid - 1\n",
        "    return -1\n",
        "\n",
        "arr = [1, 3, 5, 7, 9, 11, 13, 15, 17]\n",
        "target = 7\n",
        "print(binary_search(arr, target))\n",
        "\n",
        "target = 15\n",
        "print(binary_search(arr, target))"
      ],
      "metadata": {
        "colab": {
          "base_uri": "https://localhost:8080/"
        },
        "id": "AeLGsGA57WsV",
        "outputId": "91ae45d0-763b-41d0-8ecf-c71db875e53a"
      },
      "execution_count": 8,
      "outputs": [
        {
          "output_type": "stream",
          "name": "stdout",
          "text": [
            "3\n",
            "7\n"
          ]
        }
      ]
    },
    {
      "cell_type": "code",
      "source": [
        "# Task 32\n",
        "def find_subarray_with_sum(arr, S):\n",
        "    start = 0\n",
        "    current_sum = 0\n",
        "    for end in range(len(arr)):\n",
        "        current_sum += arr[end]\n",
        "\n",
        "        while current_sum > S and start <= end:\n",
        "            current_sum -= arr[start]\n",
        "            start += 1\n",
        "\n",
        "        if current_sum == S:\n",
        "            return (start, end)\n",
        "    return -1\n",
        "\n",
        "arr = [1, 4, 20, 3, 10, 5]\n",
        "S = 33\n",
        "print(find_subarray_with_sum(arr, S))\n",
        "S = 15\n",
        "print(find_subarray_with_sum(arr, S))\n"
      ],
      "metadata": {
        "colab": {
          "base_uri": "https://localhost:8080/"
        },
        "id": "bqzHUpZY7oL8",
        "outputId": "98a91d4f-019d-4244-aebe-8227c854122f"
      },
      "execution_count": 9,
      "outputs": [
        {
          "output_type": "stream",
          "name": "stdout",
          "text": [
            "(2, 4)\n",
            "(4, 5)\n"
          ]
        }
      ]
    },
    {
      "cell_type": "code",
      "source": [
        "# Task 4\n",
        "import re\n",
        "from collections import Counter\n",
        "\n",
        "def analyze_log(file_path):\n",
        "    ip_counter = Counter()\n",
        "    response_code_counter = Counter()\n",
        "    url_counter = Counter()\n",
        "\n",
        "    log_pattern = r'(?P<ip>\\d+\\.\\d+\\.\\d+\\.\\d+) - - \\[.*\\] \"(?P<method>[A-Z]+) (?P<url>\\S+) .*\" (?P<status_code>\\d+)'\n",
        "\n",
        "    try:\n",
        "        with open(file_path, 'r') as file:\n",
        "            for line in file:\n",
        "                match = re.match(log_pattern, line)\n",
        "                if match:\n",
        "                    ip = match.group('ip')\n",
        "                    url = match.group('url')\n",
        "                    status_code = match.group('status_code')\n",
        "\n",
        "                    ip_counter[ip] += 1\n",
        "                    url_counter[url] += 1\n",
        "                    response_code_counter[status_code] += 1\n",
        "        print(\"Most frequent IP addresses:\")\n",
        "        for ip, count in ip_counter.most_common(5):\n",
        "            print(f\"{ip}: {count}\")\n",
        "\n",
        "        print(\"\\nMost frequent URLs accessed:\")\n",
        "        for url, count in url_counter.most_common(5):\n",
        "            print(f\"{url}: {count}\")\n",
        "\n",
        "        print(\"\\nMost frequent response codes:\")\n",
        "        for code, count in response_code_counter.most_common(5):\n",
        "            print(f\"{code}: {count}\")\n",
        "\n",
        "    except FileNotFoundError:\n",
        "        print(f\"Error: File '{file_path}' not found.\")\n",
        "    except Exception as e:\n",
        "        print(f\"An error occurred: {e}\")\n",
        "\n",
        "log_file_path = \"web_server.txt\"\n",
        "analyze_log(log_file_path)\n"
      ],
      "metadata": {
        "colab": {
          "base_uri": "https://localhost:8080/"
        },
        "id": "deikkGEj8Ckk",
        "outputId": "e3647c49-a279-4fe5-9829-476b7edd9e93"
      },
      "execution_count": 22,
      "outputs": [
        {
          "output_type": "stream",
          "name": "stdout",
          "text": [
            "Most frequent IP addresses:\n",
            "192.168.1.1: 2\n",
            "192.168.1.2: 2\n",
            "192.168.1.3: 1\n",
            "\n",
            "Most frequent URLs accessed:\n",
            "/home: 2\n",
            "/about: 1\n",
            "/login: 1\n",
            "/contact: 1\n",
            "\n",
            "Most frequent response codes:\n",
            "200: 3\n",
            "302: 1\n",
            "404: 1\n"
          ]
        }
      ]
    },
    {
      "cell_type": "code",
      "source": [],
      "metadata": {
        "id": "bVyP9v_U8ez0"
      },
      "execution_count": null,
      "outputs": []
    }
  ]
}